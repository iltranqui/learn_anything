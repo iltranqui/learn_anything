{
 "cells": [
  {
   "cell_type": "markdown",
   "id": "f7ca9c27",
   "metadata": {},
   "source": []
  },
  {
   "cell_type": "code",
   "execution_count": 2,
   "id": "martial-rotation",
   "metadata": {},
   "outputs": [],
   "source": [
    "from sklearn.model_selection import train_test_split\n",
    "from sklearn.model_selection import GridSearchCV, RandomizedSearchCV\n",
    "from sklearn.preprocessing import StandardScaler\n",
    "from sklearn.pipeline import Pipeline\n",
    "from sklearn.metrics import classification_report\n",
    "from sklearn.metrics import mean_squared_error\n",
    "import pandas as pd\n",
    "import matplotlib.pyplot as plt\n",
    "import numpy as np\n",
    "import seaborn as sns"
   ]
  },
  {
   "cell_type": "code",
   "execution_count": 3,
   "id": "ignored-contemporary",
   "metadata": {},
   "outputs": [],
   "source": [
    "df=pd.read_csv('audi.csv')"
   ]
  },
  {
   "cell_type": "code",
   "execution_count": 4,
   "id": "later-probability",
   "metadata": {},
   "outputs": [
    {
     "data": {
      "text/html": [
       "<div>\n",
       "<style scoped>\n",
       "    .dataframe tbody tr th:only-of-type {\n",
       "        vertical-align: middle;\n",
       "    }\n",
       "\n",
       "    .dataframe tbody tr th {\n",
       "        vertical-align: top;\n",
       "    }\n",
       "\n",
       "    .dataframe thead th {\n",
       "        text-align: right;\n",
       "    }\n",
       "</style>\n",
       "<table border=\"1\" class=\"dataframe\">\n",
       "  <thead>\n",
       "    <tr style=\"text-align: right;\">\n",
       "      <th></th>\n",
       "      <th>model</th>\n",
       "      <th>year</th>\n",
       "      <th>price</th>\n",
       "      <th>transmission</th>\n",
       "      <th>mileage</th>\n",
       "      <th>fuelType</th>\n",
       "      <th>tax</th>\n",
       "      <th>mpg</th>\n",
       "      <th>engineSize</th>\n",
       "    </tr>\n",
       "  </thead>\n",
       "  <tbody>\n",
       "    <tr>\n",
       "      <th>0</th>\n",
       "      <td>A1</td>\n",
       "      <td>2017</td>\n",
       "      <td>12500</td>\n",
       "      <td>Manual</td>\n",
       "      <td>15735</td>\n",
       "      <td>Petrol</td>\n",
       "      <td>150</td>\n",
       "      <td>55.4</td>\n",
       "      <td>1.4</td>\n",
       "    </tr>\n",
       "    <tr>\n",
       "      <th>1</th>\n",
       "      <td>A6</td>\n",
       "      <td>2016</td>\n",
       "      <td>16500</td>\n",
       "      <td>Automatic</td>\n",
       "      <td>36203</td>\n",
       "      <td>Diesel</td>\n",
       "      <td>20</td>\n",
       "      <td>64.2</td>\n",
       "      <td>2.0</td>\n",
       "    </tr>\n",
       "    <tr>\n",
       "      <th>2</th>\n",
       "      <td>A1</td>\n",
       "      <td>2016</td>\n",
       "      <td>11000</td>\n",
       "      <td>Manual</td>\n",
       "      <td>29946</td>\n",
       "      <td>Petrol</td>\n",
       "      <td>30</td>\n",
       "      <td>55.4</td>\n",
       "      <td>1.4</td>\n",
       "    </tr>\n",
       "    <tr>\n",
       "      <th>3</th>\n",
       "      <td>A4</td>\n",
       "      <td>2017</td>\n",
       "      <td>16800</td>\n",
       "      <td>Automatic</td>\n",
       "      <td>25952</td>\n",
       "      <td>Diesel</td>\n",
       "      <td>145</td>\n",
       "      <td>67.3</td>\n",
       "      <td>2.0</td>\n",
       "    </tr>\n",
       "    <tr>\n",
       "      <th>4</th>\n",
       "      <td>A3</td>\n",
       "      <td>2019</td>\n",
       "      <td>17300</td>\n",
       "      <td>Manual</td>\n",
       "      <td>1998</td>\n",
       "      <td>Petrol</td>\n",
       "      <td>145</td>\n",
       "      <td>49.6</td>\n",
       "      <td>1.0</td>\n",
       "    </tr>\n",
       "  </tbody>\n",
       "</table>\n",
       "</div>"
      ],
      "text/plain": [
       "  model  year  price transmission  mileage fuelType  tax   mpg  engineSize\n",
       "0    A1  2017  12500       Manual    15735   Petrol  150  55.4         1.4\n",
       "1    A6  2016  16500    Automatic    36203   Diesel   20  64.2         2.0\n",
       "2    A1  2016  11000       Manual    29946   Petrol   30  55.4         1.4\n",
       "3    A4  2017  16800    Automatic    25952   Diesel  145  67.3         2.0\n",
       "4    A3  2019  17300       Manual     1998   Petrol  145  49.6         1.0"
      ]
     },
     "execution_count": 4,
     "metadata": {},
     "output_type": "execute_result"
    }
   ],
   "source": [
    "df.head()"
   ]
  },
  {
   "cell_type": "markdown",
   "id": "durable-craps",
   "metadata": {},
   "source": [
    "Devo fare OH encoding per la colonna categorica 'origin'"
   ]
  },
  {
   "cell_type": "code",
   "execution_count": 5,
   "id": "collectible-increase",
   "metadata": {},
   "outputs": [
    {
     "data": {
      "text/plain": [
       "model            object\n",
       "year              int64\n",
       "price             int64\n",
       "transmission     object\n",
       "mileage           int64\n",
       "fuelType         object\n",
       "tax               int64\n",
       "mpg             float64\n",
       "engineSize      float64\n",
       "dtype: object"
      ]
     },
     "execution_count": 5,
     "metadata": {},
     "output_type": "execute_result"
    }
   ],
   "source": [
    "df.dtypes"
   ]
  },
  {
   "cell_type": "code",
   "execution_count": 6,
   "id": "through-treatment",
   "metadata": {},
   "outputs": [],
   "source": [
    "#Convert year column to object so we can include it in the categorical mask\n",
    "df['year']=df['year'].astype(object)"
   ]
  },
  {
   "cell_type": "code",
   "execution_count": 7,
   "id": "lesbian-muslim",
   "metadata": {},
   "outputs": [],
   "source": [
    "# Create a boolean mask for categorical columns\n",
    "categorical_mask = (df.dtypes == object)"
   ]
  },
  {
   "cell_type": "code",
   "execution_count": 8,
   "id": "signed-diesel",
   "metadata": {},
   "outputs": [],
   "source": [
    "categorical_columns = df.columns[categorical_mask].tolist()"
   ]
  },
  {
   "cell_type": "code",
   "execution_count": 9,
   "id": "mediterranean-burlington",
   "metadata": {},
   "outputs": [
    {
     "name": "stdout",
     "output_type": "stream",
     "text": [
      "  model  year transmission fuelType\n",
      "0    A1  2017       Manual   Petrol\n",
      "1    A6  2016    Automatic   Diesel\n",
      "2    A1  2016       Manual   Petrol\n",
      "3    A4  2017    Automatic   Diesel\n",
      "4    A3  2019       Manual   Petrol\n"
     ]
    }
   ],
   "source": [
    "print(df[categorical_columns].head())"
   ]
  },
  {
   "cell_type": "code",
   "execution_count": 11,
   "id": "divine-arnold",
   "metadata": {},
   "outputs": [
    {
     "data": {
      "text/html": [
       "<div>\n",
       "<style scoped>\n",
       "    .dataframe tbody tr th:only-of-type {\n",
       "        vertical-align: middle;\n",
       "    }\n",
       "\n",
       "    .dataframe tbody tr th {\n",
       "        vertical-align: top;\n",
       "    }\n",
       "\n",
       "    .dataframe thead th {\n",
       "        text-align: right;\n",
       "    }\n",
       "</style>\n",
       "<table border=\"1\" class=\"dataframe\">\n",
       "  <thead>\n",
       "    <tr style=\"text-align: right;\">\n",
       "      <th></th>\n",
       "      <th>model</th>\n",
       "      <th>year</th>\n",
       "      <th>transmission</th>\n",
       "      <th>fuelType</th>\n",
       "    </tr>\n",
       "  </thead>\n",
       "  <tbody>\n",
       "    <tr>\n",
       "      <th>count</th>\n",
       "      <td>10668</td>\n",
       "      <td>10668</td>\n",
       "      <td>10668</td>\n",
       "      <td>10668</td>\n",
       "    </tr>\n",
       "    <tr>\n",
       "      <th>unique</th>\n",
       "      <td>26</td>\n",
       "      <td>21</td>\n",
       "      <td>3</td>\n",
       "      <td>3</td>\n",
       "    </tr>\n",
       "    <tr>\n",
       "      <th>top</th>\n",
       "      <td>A3</td>\n",
       "      <td>2019</td>\n",
       "      <td>Manual</td>\n",
       "      <td>Diesel</td>\n",
       "    </tr>\n",
       "    <tr>\n",
       "      <th>freq</th>\n",
       "      <td>1929</td>\n",
       "      <td>3197</td>\n",
       "      <td>4369</td>\n",
       "      <td>5577</td>\n",
       "    </tr>\n",
       "  </tbody>\n",
       "</table>\n",
       "</div>"
      ],
      "text/plain": [
       "        model   year transmission fuelType\n",
       "count   10668  10668        10668    10668\n",
       "unique     26     21            3        3\n",
       "top        A3   2019       Manual   Diesel\n",
       "freq     1929   3197         4369     5577"
      ]
     },
     "execution_count": 11,
     "metadata": {},
     "output_type": "execute_result"
    }
   ],
   "source": [
    "df[categorical_columns].describe()"
   ]
  },
  {
   "cell_type": "code",
   "execution_count": 135,
   "id": "together-iceland",
   "metadata": {},
   "outputs": [],
   "source": [
    "#COLUMN TRANSFORMER to get OH conded cols!\n",
    "#This allows us to skip the label encoder and directly apply the one hot encoding!\n",
    "\n",
    "\n",
    "#from sklearn.preprocessing import OneHotEncoder\n",
    "#from sklearn.compose import ColumnTransformer\n",
    "#ct = ColumnTransformer([(categorical_columns, OneHotEncoder(), [0])], remainder = 'passthrough')\n",
    "#df[categorical_columns] = ct.fit_transform(df[categorical_columns])"
   ]
  },
  {
   "cell_type": "code",
   "execution_count": 136,
   "id": "compatible-polyester",
   "metadata": {},
   "outputs": [],
   "source": [
    "#Use get dummies instead of one hot encoding, I still dont knoe the difference btw dummies and OHE\n",
    "\n",
    "#Create a copy of the DF where we substitue the categorical column into more cols with dummies\n",
    "encoded_df=df.copy()\n",
    "encoded_df = pd.concat([df.drop(categorical_columns, axis=1), pd.get_dummies(df[categorical_columns], drop_first=True)], axis=1)"
   ]
  },
  {
   "cell_type": "code",
   "execution_count": 137,
   "id": "palestinian-simple",
   "metadata": {},
   "outputs": [
    {
     "data": {
      "text/html": [
       "<div>\n",
       "<style scoped>\n",
       "    .dataframe tbody tr th:only-of-type {\n",
       "        vertical-align: middle;\n",
       "    }\n",
       "\n",
       "    .dataframe tbody tr th {\n",
       "        vertical-align: top;\n",
       "    }\n",
       "\n",
       "    .dataframe thead th {\n",
       "        text-align: right;\n",
       "    }\n",
       "</style>\n",
       "<table border=\"1\" class=\"dataframe\">\n",
       "  <thead>\n",
       "    <tr style=\"text-align: right;\">\n",
       "      <th></th>\n",
       "      <th>price</th>\n",
       "      <th>mileage</th>\n",
       "      <th>tax</th>\n",
       "      <th>mpg</th>\n",
       "      <th>engineSize</th>\n",
       "      <th>model_ A2</th>\n",
       "      <th>model_ A3</th>\n",
       "      <th>model_ A4</th>\n",
       "      <th>model_ A5</th>\n",
       "      <th>model_ A6</th>\n",
       "      <th>...</th>\n",
       "      <th>year_2015</th>\n",
       "      <th>year_2016</th>\n",
       "      <th>year_2017</th>\n",
       "      <th>year_2018</th>\n",
       "      <th>year_2019</th>\n",
       "      <th>year_2020</th>\n",
       "      <th>transmission_Manual</th>\n",
       "      <th>transmission_Semi-Auto</th>\n",
       "      <th>fuelType_Hybrid</th>\n",
       "      <th>fuelType_Petrol</th>\n",
       "    </tr>\n",
       "  </thead>\n",
       "  <tbody>\n",
       "    <tr>\n",
       "      <th>0</th>\n",
       "      <td>12500</td>\n",
       "      <td>15735</td>\n",
       "      <td>150</td>\n",
       "      <td>55.4</td>\n",
       "      <td>1.4</td>\n",
       "      <td>0</td>\n",
       "      <td>0</td>\n",
       "      <td>0</td>\n",
       "      <td>0</td>\n",
       "      <td>0</td>\n",
       "      <td>...</td>\n",
       "      <td>0</td>\n",
       "      <td>0</td>\n",
       "      <td>1</td>\n",
       "      <td>0</td>\n",
       "      <td>0</td>\n",
       "      <td>0</td>\n",
       "      <td>1</td>\n",
       "      <td>0</td>\n",
       "      <td>0</td>\n",
       "      <td>1</td>\n",
       "    </tr>\n",
       "    <tr>\n",
       "      <th>1</th>\n",
       "      <td>16500</td>\n",
       "      <td>36203</td>\n",
       "      <td>20</td>\n",
       "      <td>64.2</td>\n",
       "      <td>2.0</td>\n",
       "      <td>0</td>\n",
       "      <td>0</td>\n",
       "      <td>0</td>\n",
       "      <td>0</td>\n",
       "      <td>1</td>\n",
       "      <td>...</td>\n",
       "      <td>0</td>\n",
       "      <td>1</td>\n",
       "      <td>0</td>\n",
       "      <td>0</td>\n",
       "      <td>0</td>\n",
       "      <td>0</td>\n",
       "      <td>0</td>\n",
       "      <td>0</td>\n",
       "      <td>0</td>\n",
       "      <td>0</td>\n",
       "    </tr>\n",
       "    <tr>\n",
       "      <th>2</th>\n",
       "      <td>11000</td>\n",
       "      <td>29946</td>\n",
       "      <td>30</td>\n",
       "      <td>55.4</td>\n",
       "      <td>1.4</td>\n",
       "      <td>0</td>\n",
       "      <td>0</td>\n",
       "      <td>0</td>\n",
       "      <td>0</td>\n",
       "      <td>0</td>\n",
       "      <td>...</td>\n",
       "      <td>0</td>\n",
       "      <td>1</td>\n",
       "      <td>0</td>\n",
       "      <td>0</td>\n",
       "      <td>0</td>\n",
       "      <td>0</td>\n",
       "      <td>1</td>\n",
       "      <td>0</td>\n",
       "      <td>0</td>\n",
       "      <td>1</td>\n",
       "    </tr>\n",
       "    <tr>\n",
       "      <th>3</th>\n",
       "      <td>16800</td>\n",
       "      <td>25952</td>\n",
       "      <td>145</td>\n",
       "      <td>67.3</td>\n",
       "      <td>2.0</td>\n",
       "      <td>0</td>\n",
       "      <td>0</td>\n",
       "      <td>1</td>\n",
       "      <td>0</td>\n",
       "      <td>0</td>\n",
       "      <td>...</td>\n",
       "      <td>0</td>\n",
       "      <td>0</td>\n",
       "      <td>1</td>\n",
       "      <td>0</td>\n",
       "      <td>0</td>\n",
       "      <td>0</td>\n",
       "      <td>0</td>\n",
       "      <td>0</td>\n",
       "      <td>0</td>\n",
       "      <td>0</td>\n",
       "    </tr>\n",
       "    <tr>\n",
       "      <th>4</th>\n",
       "      <td>17300</td>\n",
       "      <td>1998</td>\n",
       "      <td>145</td>\n",
       "      <td>49.6</td>\n",
       "      <td>1.0</td>\n",
       "      <td>0</td>\n",
       "      <td>1</td>\n",
       "      <td>0</td>\n",
       "      <td>0</td>\n",
       "      <td>0</td>\n",
       "      <td>...</td>\n",
       "      <td>0</td>\n",
       "      <td>0</td>\n",
       "      <td>0</td>\n",
       "      <td>0</td>\n",
       "      <td>1</td>\n",
       "      <td>0</td>\n",
       "      <td>1</td>\n",
       "      <td>0</td>\n",
       "      <td>0</td>\n",
       "      <td>1</td>\n",
       "    </tr>\n",
       "  </tbody>\n",
       "</table>\n",
       "<p>5 rows × 54 columns</p>\n",
       "</div>"
      ],
      "text/plain": [
       "   price  mileage  tax   mpg  engineSize  model_ A2  model_ A3  model_ A4  \\\n",
       "0  12500    15735  150  55.4         1.4          0          0          0   \n",
       "1  16500    36203   20  64.2         2.0          0          0          0   \n",
       "2  11000    29946   30  55.4         1.4          0          0          0   \n",
       "3  16800    25952  145  67.3         2.0          0          0          1   \n",
       "4  17300     1998  145  49.6         1.0          0          1          0   \n",
       "\n",
       "   model_ A5  model_ A6  ...  year_2015  year_2016  year_2017  year_2018  \\\n",
       "0          0          0  ...          0          0          1          0   \n",
       "1          0          1  ...          0          1          0          0   \n",
       "2          0          0  ...          0          1          0          0   \n",
       "3          0          0  ...          0          0          1          0   \n",
       "4          0          0  ...          0          0          0          0   \n",
       "\n",
       "   year_2019  year_2020  transmission_Manual  transmission_Semi-Auto  \\\n",
       "0          0          0                    1                       0   \n",
       "1          0          0                    0                       0   \n",
       "2          0          0                    1                       0   \n",
       "3          0          0                    0                       0   \n",
       "4          1          0                    1                       0   \n",
       "\n",
       "   fuelType_Hybrid  fuelType_Petrol  \n",
       "0                0                1  \n",
       "1                0                0  \n",
       "2                0                1  \n",
       "3                0                0  \n",
       "4                0                1  \n",
       "\n",
       "[5 rows x 54 columns]"
      ]
     },
     "execution_count": 137,
     "metadata": {},
     "output_type": "execute_result"
    }
   ],
   "source": [
    "encoded_df.head()"
   ]
  },
  {
   "cell_type": "markdown",
   "id": "parallel-october",
   "metadata": {},
   "source": [
    "I have 54 columns: 5 (numeric_cols) + 53 (unique cateogric_cols) - 4 (drop first dummies) = 54"
   ]
  },
  {
   "cell_type": "markdown",
   "id": "gentle-table",
   "metadata": {},
   "source": [
    "Now the data is ready for the learning"
   ]
  },
  {
   "cell_type": "markdown",
   "id": "defensive-dubai",
   "metadata": {},
   "source": [
    "### Prepare the data for learning"
   ]
  },
  {
   "cell_type": "code",
   "execution_count": 245,
   "id": "brazilian-ecuador",
   "metadata": {},
   "outputs": [],
   "source": [
    "X=encoded_df.drop('price', axis = 1).values"
   ]
  },
  {
   "cell_type": "code",
   "execution_count": 246,
   "id": "coordinated-second",
   "metadata": {},
   "outputs": [],
   "source": [
    "y=encoded_df['price'].values"
   ]
  },
  {
   "cell_type": "code",
   "execution_count": 247,
   "id": "recovered-father",
   "metadata": {},
   "outputs": [],
   "source": [
    "X_train, X_test, y_train, y_test = train_test_split(X, y, test_size = 0.3, random_state = 69)"
   ]
  },
  {
   "cell_type": "code",
   "execution_count": 248,
   "id": "functional-alias",
   "metadata": {},
   "outputs": [],
   "source": [
    "scaler = StandardScaler()"
   ]
  },
  {
   "cell_type": "code",
   "execution_count": 249,
   "id": "minimal-stanford",
   "metadata": {},
   "outputs": [
    {
     "data": {
      "text/plain": [
       "StandardScaler()"
      ]
     },
     "execution_count": 249,
     "metadata": {},
     "output_type": "execute_result"
    }
   ],
   "source": [
    "scaler.fit(X_train)"
   ]
  },
  {
   "cell_type": "code",
   "execution_count": 250,
   "id": "commercial-blame",
   "metadata": {},
   "outputs": [],
   "source": [
    "X_train = scaler.transform(X_train)          # Apply Standardization on X_train\n",
    "X_test = scaler.transform(X_test)            # Apply Standardization on X_test"
   ]
  },
  {
   "cell_type": "markdown",
   "id": "detailed-hungarian",
   "metadata": {},
   "source": [
    "## Support Vector Regression"
   ]
  },
  {
   "cell_type": "code",
   "execution_count": 374,
   "id": "meaning-lebanon",
   "metadata": {},
   "outputs": [],
   "source": [
    "from sklearn.svm import SVR"
   ]
  },
  {
   "cell_type": "code",
   "execution_count": 375,
   "id": "hollywood-accuracy",
   "metadata": {},
   "outputs": [],
   "source": [
    "param_SVM = {'C':np.arange(1000,10000,100),\n",
    "            'gamma':np.arange(0.0001, 0.5, 0.001)}"
   ]
  },
  {
   "cell_type": "code",
   "execution_count": 376,
   "id": "judicial-thriller",
   "metadata": {},
   "outputs": [],
   "source": [
    "svr_model=SVR()"
   ]
  },
  {
   "cell_type": "code",
   "execution_count": 377,
   "id": "outer-tuition",
   "metadata": {},
   "outputs": [],
   "source": [
    "cv_SVM = RandomizedSearchCV(estimator=svr_model, param_distributions = param_SVM, n_iter=10, cv = 3)"
   ]
  },
  {
   "cell_type": "code",
   "execution_count": 378,
   "id": "japanese-treasurer",
   "metadata": {},
   "outputs": [
    {
     "data": {
      "text/plain": [
       "RandomizedSearchCV(cv=3, estimator=SVR(),\n",
       "                   param_distributions={'C': array([1000, 1100, 1200, 1300, 1400, 1500, 1600, 1700, 1800, 1900, 2000,\n",
       "       2100, 2200, 2300, 2400, 2500, 2600, 2700, 2800, 2900, 3000, 3100,\n",
       "       3200, 3300, 3400, 3500, 3600, 3700, 3800, 3900, 4000, 4100, 4200,\n",
       "       4300, 4400, 4500, 4600, 4700, 4800, 4900, 5000, 5100, 5200, 5300,\n",
       "       5400, 5500, 5600, 5700, 5800, 5900, 6000, 6100, 6200, 6300, 6400,\n",
       "       650...\n",
       "       4.621e-01, 4.631e-01, 4.641e-01, 4.651e-01, 4.661e-01, 4.671e-01,\n",
       "       4.681e-01, 4.691e-01, 4.701e-01, 4.711e-01, 4.721e-01, 4.731e-01,\n",
       "       4.741e-01, 4.751e-01, 4.761e-01, 4.771e-01, 4.781e-01, 4.791e-01,\n",
       "       4.801e-01, 4.811e-01, 4.821e-01, 4.831e-01, 4.841e-01, 4.851e-01,\n",
       "       4.861e-01, 4.871e-01, 4.881e-01, 4.891e-01, 4.901e-01, 4.911e-01,\n",
       "       4.921e-01, 4.931e-01, 4.941e-01, 4.951e-01, 4.961e-01, 4.971e-01,\n",
       "       4.981e-01, 4.991e-01])})"
      ]
     },
     "execution_count": 378,
     "metadata": {},
     "output_type": "execute_result"
    }
   ],
   "source": [
    "cv_SVM.fit(X_train,y_train)"
   ]
  },
  {
   "cell_type": "code",
   "execution_count": 379,
   "id": "adopted-charlotte",
   "metadata": {},
   "outputs": [],
   "source": [
    "y_pred_SVM = cv_SVM.predict(X_test)"
   ]
  },
  {
   "cell_type": "code",
   "execution_count": 380,
   "id": "common-terminal",
   "metadata": {},
   "outputs": [
    {
     "name": "stdout",
     "output_type": "stream",
     "text": [
      "Tuned SVM parameters: {'gamma': 0.0891, 'C': 6700}\n"
     ]
    }
   ],
   "source": [
    "# Compute and print the metrics\n",
    "print(\"Tuned SVM parameters: {}\".format(cv_SVM.best_params_))"
   ]
  },
  {
   "cell_type": "markdown",
   "id": "affecting-plaza",
   "metadata": {},
   "source": [
    "## XGB"
   ]
  },
  {
   "cell_type": "code",
   "execution_count": 383,
   "id": "alternate-potter",
   "metadata": {},
   "outputs": [],
   "source": [
    "import xgboost as xgb"
   ]
  },
  {
   "cell_type": "code",
   "execution_count": 384,
   "id": "romance-remedy",
   "metadata": {},
   "outputs": [],
   "source": [
    "# Create the parameter grid\n",
    "param_grid = {\n",
    "    'learning_rate': np.arange(0.0001, 0.5, 0.01),\n",
    "    'max_depth': np.arange(3, 30, 1),\n",
    "    'n_estimators': np.arange(50, 200, 10)\n",
    "}"
   ]
  },
  {
   "cell_type": "code",
   "execution_count": 385,
   "id": "logical-journalist",
   "metadata": {},
   "outputs": [],
   "source": [
    "xgb_model=xgb.XGBRegressor()"
   ]
  },
  {
   "cell_type": "code",
   "execution_count": 386,
   "id": "comfortable-mauritius",
   "metadata": {},
   "outputs": [],
   "source": [
    "rand_neg_mse = RandomizedSearchCV(estimator=xgb_model, param_distributions=param_grid, n_iter=10, scoring='neg_mean_squared_error', cv=3)"
   ]
  },
  {
   "cell_type": "code",
   "execution_count": 387,
   "id": "funded-hearing",
   "metadata": {},
   "outputs": [
    {
     "data": {
      "text/plain": [
       "RandomizedSearchCV(cv=3,\n",
       "                   estimator=XGBRegressor(base_score=None, booster=None,\n",
       "                                          colsample_bylevel=None,\n",
       "                                          colsample_bynode=None,\n",
       "                                          colsample_bytree=None, gamma=None,\n",
       "                                          gpu_id=None, importance_type='gain',\n",
       "                                          interaction_constraints=None,\n",
       "                                          learning_rate=None,\n",
       "                                          max_delta_step=None, max_depth=None,\n",
       "                                          min_child_weight=None, missing=nan,\n",
       "                                          monotone_constraints=None,\n",
       "                                          n_estimators=100, n...\n",
       "       3.601e-01, 3.701e-01, 3.801e-01, 3.901e-01, 4.001e-01, 4.101e-01,\n",
       "       4.201e-01, 4.301e-01, 4.401e-01, 4.501e-01, 4.601e-01, 4.701e-01,\n",
       "       4.801e-01, 4.901e-01]),\n",
       "                                        'max_depth': array([ 3,  4,  5,  6,  7,  8,  9, 10, 11, 12, 13, 14, 15, 16, 17, 18, 19,\n",
       "       20, 21, 22, 23, 24, 25, 26, 27, 28, 29]),\n",
       "                                        'n_estimators': array([ 50,  60,  70,  80,  90, 100, 110, 120, 130, 140, 150, 160, 170,\n",
       "       180, 190])},\n",
       "                   scoring='neg_mean_squared_error')"
      ]
     },
     "execution_count": 387,
     "metadata": {},
     "output_type": "execute_result"
    }
   ],
   "source": [
    "rand_neg_mse.fit(X_train, y_train)"
   ]
  },
  {
   "cell_type": "code",
   "execution_count": 388,
   "id": "formal-cradle",
   "metadata": {},
   "outputs": [
    {
     "name": "stdout",
     "output_type": "stream",
     "text": [
      "Best rmse: 2694.680091919489\n"
     ]
    }
   ],
   "source": [
    "print(\"Best rmse:\", np.sqrt(np.abs(rand_neg_mse.best_score_)))"
   ]
  },
  {
   "cell_type": "code",
   "execution_count": 389,
   "id": "modular-organizer",
   "metadata": {},
   "outputs": [
    {
     "name": "stdout",
     "output_type": "stream",
     "text": [
      "Best model:  XGBRegressor(base_score=0.5, booster='gbtree', colsample_bylevel=1,\n",
      "             colsample_bynode=1, colsample_bytree=1, gamma=0, gpu_id=-1,\n",
      "             importance_type='gain', interaction_constraints='',\n",
      "             learning_rate=0.07010000000000001, max_delta_step=0, max_depth=7,\n",
      "             min_child_weight=1, missing=nan, monotone_constraints='()',\n",
      "             n_estimators=140, n_jobs=4, num_parallel_tree=1, random_state=0,\n",
      "             reg_alpha=0, reg_lambda=1, scale_pos_weight=1, subsample=1,\n",
      "             tree_method='exact', validate_parameters=1, verbosity=None)\n"
     ]
    }
   ],
   "source": [
    "print(\"Best model: \", rand_neg_mse.best_estimator_)"
   ]
  },
  {
   "cell_type": "code",
   "execution_count": 390,
   "id": "twelve-planning",
   "metadata": {},
   "outputs": [],
   "source": [
    "y_pred_RND = rand_neg_mse.predict(X_test)"
   ]
  },
  {
   "cell_type": "code",
   "execution_count": 391,
   "id": "inappropriate-guide",
   "metadata": {},
   "outputs": [
    {
     "name": "stdout",
     "output_type": "stream",
     "text": [
      "Tuned XGB parameters by RandomizedGridSearch: {'n_estimators': 140, 'max_depth': 7, 'learning_rate': 0.07010000000000001}\n"
     ]
    }
   ],
   "source": [
    "# Compute and print the metrics\n",
    "print(\"Tuned XGB parameters by RandomizedGridSearch: {}\".format(rand_neg_mse.best_params_))"
   ]
  },
  {
   "cell_type": "markdown",
   "id": "random-passport",
   "metadata": {},
   "source": [
    "## XGB with Hyperopt by Baesian method"
   ]
  },
  {
   "cell_type": "code",
   "execution_count": 398,
   "id": "painted-september",
   "metadata": {},
   "outputs": [],
   "source": [
    "import hyperopt\n",
    "from hyperopt import fmin, tpe, hp, STATUS_OK, Trials"
   ]
  },
  {
   "cell_type": "code",
   "execution_count": 400,
   "id": "important-adelaide",
   "metadata": {},
   "outputs": [],
   "source": [
    "space={'max_depth': hp.quniform(\"max_depth\", 3, 18, 1),\n",
    "        'gamma': hp.uniform ('gamma', 1,9),\n",
    "        'reg_alpha' : hp.quniform('reg_alpha', 40,180,1),\n",
    "        'reg_lambda' : hp.uniform('reg_lambda', 0,1),\n",
    "        'min_child_weight' : hp.quniform('min_child_weight', 0, 10, 1),\n",
    "        'learning_rate': hp.choice(\"learning_rate\", np.arange(0.0001, 0.5, 0.01)),\n",
    "      }"
   ]
  },
  {
   "cell_type": "code",
   "execution_count": 401,
   "id": "prerequisite-folder",
   "metadata": {},
   "outputs": [],
   "source": [
    "def hyperparameter_tuning(space):\n",
    "    print(space)\n",
    "    model = xgb.XGBRegressor(max_depth = int(space['max_depth']),\n",
    "                           min_child_weight=space['min_child_weight'],\n",
    "                           gamma = space['gamma'],\n",
    "                           reg_alpha = int(space['reg_alpha']),\n",
    "                           reg_lambda = space['reg_lambda'],\n",
    "                            learning_rate=space['learning_rate'])\n",
    "\n",
    "    eval_set  = [( X_train, y_train), ( X_test, y_test)]\n",
    "\n",
    "    model.fit(X_train, y_train,\n",
    "            eval_set=eval_set, eval_metric=\"rmse\",\n",
    "            early_stopping_rounds=10,verbose=False)\n",
    "\n",
    "    pred = model.predict(X_test)\n",
    "    mse_scr = mean_squared_error(y_test, pred)\n",
    "    print(\"SCORE:\", np.sqrt(mse_scr))\n",
    "    #change the metric if you like\n",
    "    return {'loss':mse_scr, 'status': STATUS_OK }"
   ]
  },
  {
   "cell_type": "code",
   "execution_count": 402,
   "id": "foster-level",
   "metadata": {},
   "outputs": [
    {
     "name": "stdout",
     "output_type": "stream",
     "text": [
      "{'gamma': 7.28776581508298, 'learning_rate': 0.3601, 'max_depth': 12.0, 'min_child_weight': 7.0, 'reg_alpha': 126.0, 'reg_lambda': 0.6443987149028455}\n",
      "SCORE:                                                                                                                 \n",
      "2440.828090334427                                                                                                      \n",
      "{'gamma': 5.3332099057737015, 'learning_rate': 0.0101, 'max_depth': 16.0, 'min_child_weight': 2.0, 'reg_alpha': 155.0, 'reg_lambda': 0.40751642209540573}\n",
      "SCORE:                                                                                                                 \n",
      "9767.960935460118                                                                                                      \n",
      "{'gamma': 7.626140071460382, 'learning_rate': 0.1701, 'max_depth': 11.0, 'min_child_weight': 10.0, 'reg_alpha': 123.0, 'reg_lambda': 0.650329568578954}\n",
      "SCORE:                                                                                                                 \n",
      "2479.3382878361044                                                                                                     \n",
      "{'gamma': 5.155706552059708, 'learning_rate': 0.0801, 'max_depth': 11.0, 'min_child_weight': 1.0, 'reg_alpha': 141.0, 'reg_lambda': 0.39413892679039586}\n",
      "SCORE:                                                                                                                 \n",
      "2386.7635272067446                                                                                                     \n",
      "{'gamma': 5.861212403311497, 'learning_rate': 0.1901, 'max_depth': 6.0, 'min_child_weight': 7.0, 'reg_alpha': 114.0, 'reg_lambda': 0.9905983309610431}\n",
      "SCORE:                                                                                                                 \n",
      "2440.4858363425233                                                                                                     \n",
      "{'gamma': 3.8288428069016183, 'learning_rate': 0.0001, 'max_depth': 5.0, 'min_child_weight': 9.0, 'reg_alpha': 121.0, 'reg_lambda': 0.4285791737675345}\n",
      "SCORE:                                                                                                                 \n",
      "25314.401375307487                                                                                                     \n",
      "{'gamma': 3.518434803383654, 'learning_rate': 0.1301, 'max_depth': 6.0, 'min_child_weight': 8.0, 'reg_alpha': 76.0, 'reg_lambda': 0.16961410912853503}\n",
      "SCORE:                                                                                                                 \n",
      "2532.296932406186                                                                                                      \n",
      "{'gamma': 3.7034759594850826, 'learning_rate': 0.4101, 'max_depth': 4.0, 'min_child_weight': 10.0, 'reg_alpha': 129.0, 'reg_lambda': 0.0721076972891419}\n",
      "SCORE:                                                                                                                 \n",
      "2498.332663408915                                                                                                      \n",
      "{'gamma': 4.174993920540236, 'learning_rate': 0.1101, 'max_depth': 7.0, 'min_child_weight': 6.0, 'reg_alpha': 83.0, 'reg_lambda': 0.1802950960654366}\n",
      "SCORE:                                                                                                                 \n",
      "2380.4293669838294                                                                                                     \n",
      "{'gamma': 4.200549735057283, 'learning_rate': 0.4201, 'max_depth': 6.0, 'min_child_weight': 9.0, 'reg_alpha': 63.0, 'reg_lambda': 0.026486813642145002}\n",
      "SCORE:                                                                                                                 \n",
      "2481.3480880973007                                                                                                     \n",
      "{'gamma': 2.9989141885394517, 'learning_rate': 0.29009999999999997, 'max_depth': 13.0, 'min_child_weight': 6.0, 'reg_alpha': 127.0, 'reg_lambda': 0.004543452051621544}\n",
      "SCORE:                                                                                                                 \n",
      "2495.0464915453426                                                                                                     \n",
      "{'gamma': 4.712005625684832, 'learning_rate': 0.21009999999999998, 'max_depth': 14.0, 'min_child_weight': 3.0, 'reg_alpha': 46.0, 'reg_lambda': 0.5955925928343163}\n",
      "SCORE:                                                                                                                 \n",
      "2408.934403305934                                                                                                      \n",
      "{'gamma': 7.473153342153215, 'learning_rate': 0.2001, 'max_depth': 6.0, 'min_child_weight': 3.0, 'reg_alpha': 51.0, 'reg_lambda': 0.7436098032682759}\n",
      "SCORE:                                                                                                                 \n",
      "2422.6333219939165                                                                                                     \n",
      "{'gamma': 3.548721416785197, 'learning_rate': 0.4701, 'max_depth': 15.0, 'min_child_weight': 5.0, 'reg_alpha': 60.0, 'reg_lambda': 0.00398439619623403}\n",
      "SCORE:                                                                                                                 \n",
      "2631.0858970603635                                                                                                     \n",
      "{'gamma': 2.5187909302371203, 'learning_rate': 0.3301, 'max_depth': 10.0, 'min_child_weight': 8.0, 'reg_alpha': 151.0, 'reg_lambda': 0.6288278708989528}\n",
      "SCORE:                                                                                                                 \n",
      "2454.753504996697                                                                                                      \n",
      "{'gamma': 8.58497062812055, 'learning_rate': 0.1901, 'max_depth': 10.0, 'min_child_weight': 4.0, 'reg_alpha': 105.0, 'reg_lambda': 0.1339084104216044}\n",
      "SCORE:                                                                                                                 \n",
      "2384.60627920663                                                                                                       \n",
      "{'gamma': 5.960240460649114, 'learning_rate': 0.1101, 'max_depth': 7.0, 'min_child_weight': 9.0, 'reg_alpha': 124.0, 'reg_lambda': 0.699683030435991}\n",
      "SCORE:                                                                                                                 \n",
      "2507.1957766892847                                                                                                     \n",
      "{'gamma': 6.225461182913634, 'learning_rate': 0.3401, 'max_depth': 4.0, 'min_child_weight': 1.0, 'reg_alpha': 171.0, 'reg_lambda': 0.10520710665855249}\n",
      "SCORE:                                                                                                                 \n",
      "2502.782699384846                                                                                                      \n",
      "{'gamma': 1.1335200420818898, 'learning_rate': 0.1301, 'max_depth': 17.0, 'min_child_weight': 3.0, 'reg_alpha': 88.0, 'reg_lambda': 0.7913440771128738}\n",
      "SCORE:                                                                                                                 \n",
      "2418.088995131765                                                                                                      \n",
      "{'gamma': 1.4174754137427108, 'learning_rate': 0.2201, 'max_depth': 13.0, 'min_child_weight': 1.0, 'reg_alpha': 45.0, 'reg_lambda': 0.7178103258551001}\n",
      "SCORE:                                                                                                                 \n",
      "2450.78899271552                                                                                                       \n",
      "{'gamma': 8.957005375860803, 'learning_rate': 0.1201, 'max_depth': 9.0, 'min_child_weight': 5.0, 'reg_alpha': 95.0, 'reg_lambda': 0.23344106720452504}\n",
      "SCORE:                                                                                                                 \n",
      "2344.3239642776484                                                                                                     \n",
      "{'gamma': 2.0366378188716348, 'learning_rate': 0.1201, 'max_depth': 8.0, 'min_child_weight': 5.0, 'reg_alpha': 96.0, 'reg_lambda': 0.2635924866999646}\n",
      "SCORE:                                                                                                                 \n",
      "2357.0100498682364                                                                                                     \n",
      "{'gamma': 1.9728079488236263, 'learning_rate': 0.1201, 'max_depth': 9.0, 'min_child_weight': 5.0, 'reg_alpha': 99.0, 'reg_lambda': 0.32574301267230527}\n",
      "SCORE:                                                                                                                 \n",
      "2348.9883430975665                                                                                                     \n",
      "{'gamma': 8.771856542007912, 'learning_rate': 0.1201, 'max_depth': 9.0, 'min_child_weight': 4.0, 'reg_alpha': 99.0, 'reg_lambda': 0.33135609872586097}\n",
      "SCORE:                                                                                                                 \n",
      "2365.5783698516516                                                                                                     \n",
      "{'gamma': 1.8140597980128084, 'learning_rate': 0.3701, 'max_depth': 9.0, 'min_child_weight': 6.0, 'reg_alpha': 72.0, 'reg_lambda': 0.26780951173067913}\n",
      "SCORE:                                                                                                                 \n",
      "2376.0374490429463                                                                                                     \n",
      "{'gamma': 8.358099979359746, 'learning_rate': 0.2801, 'max_depth': 8.0, 'min_child_weight': 4.0, 'reg_alpha': 109.0, 'reg_lambda': 0.5295047139988763}\n",
      "SCORE:                                                                                                                 \n",
      "2367.5413707938787                                                                                                     \n",
      "{'gamma': 6.70872083236815, 'learning_rate': 0.1201, 'max_depth': 9.0, 'min_child_weight': 5.0, 'reg_alpha': 90.0, 'reg_lambda': 0.26170062074871264}\n",
      "SCORE:                                                                                                                 \n",
      "2302.8033980483433                                                                                                     \n",
      "{'gamma': 6.906782966399064, 'learning_rate': 0.3501, 'max_depth': 12.0, 'min_child_weight': 7.0, 'reg_alpha': 86.0, 'reg_lambda': 0.22256897809294926}\n",
      "SCORE:                                                                                                                 \n",
      "2406.0455227079015                                                                                                     \n",
      "{'gamma': 8.020899379725897, 'learning_rate': 0.4601, 'max_depth': 3.0, 'min_child_weight': 2.0, 'reg_alpha': 67.0, 'reg_lambda': 0.4807920098021006}\n",
      "SCORE:                                                                                                                 \n",
      "2701.660284497353                                                                                                      \n",
      "{'gamma': 6.773270431739627, 'learning_rate': 0.4501, 'max_depth': 12.0, 'min_child_weight': 6.0, 'reg_alpha': 79.0, 'reg_lambda': 0.8944956660524511}\n",
      "SCORE:                                                                                                                 \n",
      "2622.415954641439                                                                                                      \n",
      "{'gamma': 6.727646457719129, 'learning_rate': 0.1401, 'max_depth': 8.0, 'min_child_weight': 4.0, 'reg_alpha': 140.0, 'reg_lambda': 0.3315106555695405}\n",
      "SCORE:                                                                                                                 \n",
      "2364.461297671378                                                                                                      \n",
      "{'gamma': 7.885835235163347, 'learning_rate': 0.4901, 'max_depth': 11.0, 'min_child_weight': 7.0, 'reg_alpha': 54.0, 'reg_lambda': 0.5506185499958589}\n",
      "SCORE:                                                                                                                 \n",
      "2445.4241619568943                                                                                                     \n",
      "{'gamma': 5.636365338135709, 'learning_rate': 0.4001, 'max_depth': 10.0, 'min_child_weight': 2.0, 'reg_alpha': 92.0, 'reg_lambda': 0.47297770925129345}\n",
      "SCORE:                                                                                                                 \n",
      "2492.1739427510006                                                                                                     \n",
      "{'gamma': 7.322100832454764, 'learning_rate': 0.2301, 'max_depth': 15.0, 'min_child_weight': 0.0, 'reg_alpha': 115.0, 'reg_lambda': 0.40360215453952997}\n",
      "SCORE:                                                                                                                 \n",
      "2514.0572997258164                                                                                                     \n",
      "{'gamma': 6.304125691629803, 'learning_rate': 0.2701, 'max_depth': 11.0, 'min_child_weight': 8.0, 'reg_alpha': 133.0, 'reg_lambda': 0.0694721753829719}\n",
      "SCORE:                                                                                                                 \n",
      "2383.8105096634695                                                                                                     \n",
      "{'gamma': 8.926213703769152, 'learning_rate': 0.07010000000000001, 'max_depth': 7.0, 'min_child_weight': 5.0, 'reg_alpha': 103.0, 'reg_lambda': 0.23481538939748575}\n",
      "SCORE:                                                                                                                 \n",
      "2470.767007101074                                                                                                      \n",
      "{'gamma': 4.963852067141076, 'learning_rate': 0.040100000000000004, 'max_depth': 18.0, 'min_child_weight': 3.0, 'reg_alpha': 161.0, 'reg_lambda': 0.3642198979353133}\n",
      "SCORE:                                                                                                                 \n",
      "2439.502778985016                                                                                                      \n",
      "{'gamma': 8.142218778407592, 'learning_rate': 0.0901, 'max_depth': 5.0, 'min_child_weight': 7.0, 'reg_alpha': 114.0, 'reg_lambda': 0.15841315793873084}\n",
      "SCORE:                                                                                                                 \n",
      "2734.458748140144                                                                                                      \n",
      "{'gamma': 8.985304766399196, 'learning_rate': 0.4301, 'max_depth': 13.0, 'min_child_weight': 6.0, 'reg_alpha': 72.0, 'reg_lambda': 0.4544385658773528}\n",
      "SCORE:                                                                                                                 \n",
      "2408.5738720140353                                                                                                     \n",
      "{'gamma': 5.4352078743817325, 'learning_rate': 0.2501, 'max_depth': 3.0, 'min_child_weight': 8.0, 'reg_alpha': 81.0, 'reg_lambda': 0.28832722270473526}\n",
      "SCORE:                                                                                                                 \n",
      "2889.0621690949174                                                                                                     \n",
      "{'gamma': 4.478543375706639, 'learning_rate': 0.24009999999999998, 'max_depth': 12.0, 'min_child_weight': 2.0, 'reg_alpha': 134.0, 'reg_lambda': 0.19238504409580123}\n",
      "SCORE:                                                                                                                 \n",
      "2403.8381431081684                                                                                                     \n",
      "{'gamma': 7.755239196844087, 'learning_rate': 0.2601, 'max_depth': 5.0, 'min_child_weight': 4.0, 'reg_alpha': 40.0, 'reg_lambda': 0.10005743215439739}\n"
     ]
    },
    {
     "name": "stdout",
     "output_type": "stream",
     "text": [
      "SCORE:                                                                                                                 \n",
      "2425.1514283837955                                                                                                     \n",
      "{'gamma': 7.176224685534864, 'learning_rate': 0.48009999999999997, 'max_depth': 7.0, 'min_child_weight': 7.0, 'reg_alpha': 117.0, 'reg_lambda': 0.38576405532376223}\n",
      "SCORE:                                                                                                                 \n",
      "2437.867269898493                                                                                                      \n",
      "{'gamma': 8.366215160630384, 'learning_rate': 0.3901, 'max_depth': 9.0, 'min_child_weight': 5.0, 'reg_alpha': 60.0, 'reg_lambda': 0.5729919916160073}\n",
      "SCORE:                                                                                                                 \n",
      "2441.732921032895                                                                                                      \n",
      "{'gamma': 3.0284893450795147, 'learning_rate': 0.0201, 'max_depth': 14.0, 'min_child_weight': 6.0, 'reg_alpha': 144.0, 'reg_lambda': 0.04213143549329279}\n",
      "SCORE:                                                                                                                 \n",
      "4272.96380478326                                                                                                       \n",
      "{'gamma': 6.384372949668039, 'learning_rate': 0.10010000000000001, 'max_depth': 11.0, 'min_child_weight': 9.0, 'reg_alpha': 90.0, 'reg_lambda': 0.43344697411174593}\n",
      "SCORE:                                                                                                                 \n",
      "2396.0540466569973                                                                                                     \n",
      "{'gamma': 7.573666654214367, 'learning_rate': 0.18009999999999998, 'max_depth': 5.0, 'min_child_weight': 3.0, 'reg_alpha': 109.0, 'reg_lambda': 0.22309530085741247}\n",
      "SCORE:                                                                                                                 \n",
      "2517.05295059541                                                                                                       \n",
      "{'gamma': 7.100142531858591, 'learning_rate': 0.0301, 'max_depth': 6.0, 'min_child_weight': 10.0, 'reg_alpha': 75.0, 'reg_lambda': 0.1466144755761474}\n",
      "SCORE:                                                                                                                 \n",
      "3134.1251127049745                                                                                                     \n",
      "{'gamma': 5.839442146337331, 'learning_rate': 0.3801, 'max_depth': 10.0, 'min_child_weight': 4.0, 'reg_alpha': 120.0, 'reg_lambda': 0.9734224035409915}\n",
      "SCORE:                                                                                                                 \n",
      "2423.7179473038896                                                                                                     \n",
      "{'gamma': 5.112967550096583, 'learning_rate': 0.3001, 'max_depth': 8.0, 'min_child_weight': 6.0, 'reg_alpha': 65.0, 'reg_lambda': 0.512210973212214}\n",
      "SCORE:                                                                                                                 \n",
      "2324.891170901543                                                                                                      \n",
      "{'gamma': 4.318789090950887, 'learning_rate': 0.3001, 'max_depth': 4.0, 'min_child_weight': 7.0, 'reg_alpha': 52.0, 'reg_lambda': 0.6609651697227286}\n",
      "SCORE:                                                                                                                 \n",
      "2575.0462097107365                                                                                                     \n",
      "{'gamma': 5.081877218004083, 'learning_rate': 0.4401, 'max_depth': 8.0, 'min_child_weight': 9.0, 'reg_alpha': 66.0, 'reg_lambda': 0.5141265080691428}\n",
      "SCORE:                                                                                                                 \n",
      "2529.301965623764                                                                                                      \n",
      "{'gamma': 3.890371502837992, 'learning_rate': 0.3101, 'max_depth': 16.0, 'min_child_weight': 8.0, 'reg_alpha': 41.0, 'reg_lambda': 0.8261216616332137}\n",
      "SCORE:                                                                                                                 \n",
      "2483.131097011626                                                                                                      \n",
      "{'gamma': 3.1133112989952916, 'learning_rate': 0.1601, 'max_depth': 7.0, 'min_child_weight': 6.0, 'reg_alpha': 55.0, 'reg_lambda': 0.6625261717333901}\n",
      "SCORE:                                                                                                                 \n",
      "2369.16486688157                                                                                                       \n",
      "{'gamma': 4.88006939848031, 'learning_rate': 0.0601, 'max_depth': 6.0, 'min_child_weight': 0.0, 'reg_alpha': 45.0, 'reg_lambda': 0.5961288408367211}\n",
      "SCORE:                                                                                                                 \n",
      "2604.6449897649477                                                                                                     \n",
      "{'gamma': 4.631946857722242, 'learning_rate': 0.050100000000000006, 'max_depth': 4.0, 'min_child_weight': 3.0, 'reg_alpha': 84.0, 'reg_lambda': 0.7862080608026483}\n",
      "SCORE:                                                                                                                 \n",
      "3170.8361410395073                                                                                                     \n",
      "{'gamma': 6.050062549412969, 'learning_rate': 0.15009999999999998, 'max_depth': 10.0, 'min_child_weight': 1.0, 'reg_alpha': 60.0, 'reg_lambda': 0.6169170828098682}\n",
      "SCORE:                                                                                                                 \n",
      "2406.068153104919                                                                                                      \n",
      "{'gamma': 5.317186926611024, 'learning_rate': 0.3601, 'max_depth': 14.0, 'min_child_weight': 8.0, 'reg_alpha': 70.0, 'reg_lambda': 0.35965600212355}\n",
      "SCORE:                                                                                                                 \n",
      "2405.7812966050574                                                                                                     \n",
      "{'gamma': 2.649235863167502, 'learning_rate': 0.3201, 'max_depth': 8.0, 'min_child_weight': 6.0, 'reg_alpha': 103.0, 'reg_lambda': 0.3053477321236003}\n",
      "SCORE:                                                                                                                 \n",
      "2359.5895428121344                                                                                                     \n",
      "{'gamma': 4.001664942713831, 'learning_rate': 0.3001, 'max_depth': 13.0, 'min_child_weight': 5.0, 'reg_alpha': 76.0, 'reg_lambda': 0.9200219216877843}\n",
      "SCORE:                                                                                                                 \n",
      "2445.6774677108087                                                                                                     \n",
      "{'gamma': 3.4438394306128526, 'learning_rate': 0.1701, 'max_depth': 9.0, 'min_child_weight': 4.0, 'reg_alpha': 163.0, 'reg_lambda': 0.727055607270084}\n",
      "SCORE:                                                                                                                 \n",
      "2386.1262894364545                                                                                                     \n",
      "{'gamma': 6.670336808642331, 'learning_rate': 0.0101, 'max_depth': 7.0, 'min_child_weight': 10.0, 'reg_alpha': 47.0, 'reg_lambda': 0.5409713872855912}\n",
      "SCORE:                                                                                                                 \n",
      "9843.301698320756                                                                                                      \n",
      "{'gamma': 6.483820473048818, 'learning_rate': 0.4101, 'max_depth': 15.0, 'min_child_weight': 9.0, 'reg_alpha': 93.0, 'reg_lambda': 0.6945570921773783}\n",
      "SCORE:                                                                                                                 \n",
      "2441.2576404185584                                                                                                     \n",
      "{'gamma': 5.839971869476033, 'learning_rate': 0.0801, 'max_depth': 11.0, 'min_child_weight': 7.0, 'reg_alpha': 98.0, 'reg_lambda': 0.4362944203730694}\n",
      "SCORE:                                                                                                                 \n",
      "2368.889895780683                                                                                                      \n",
      "{'gamma': 5.383481831081836, 'learning_rate': 0.21009999999999998, 'max_depth': 5.0, 'min_child_weight': 5.0, 'reg_alpha': 64.0, 'reg_lambda': 0.19174621121886404}\n",
      "SCORE:                                                                                                                 \n",
      "2449.330179800791                                                                                                      \n",
      "{'gamma': 8.665269690967683, 'learning_rate': 0.1201, 'max_depth': 9.0, 'min_child_weight': 5.0, 'reg_alpha': 106.0, 'reg_lambda': 0.24925919823326154}\n",
      "SCORE:                                                                                                                 \n",
      "2337.103850449241                                                                                                      \n",
      "{'gamma': 6.973157901323865, 'learning_rate': 0.1201, 'max_depth': 8.0, 'min_child_weight': 4.0, 'reg_alpha': 107.0, 'reg_lambda': 0.25822154408598064}\n",
      "SCORE:                                                                                                                 \n",
      "2334.9697539567373                                                                                                     \n",
      "{'gamma': 6.963980951287283, 'learning_rate': 0.4701, 'max_depth': 8.0, 'min_child_weight': 4.0, 'reg_alpha': 129.0, 'reg_lambda': 0.29089371803027864}\n",
      "SCORE:                                                                                                                 \n",
      "2367.7170981153695                                                                                                     \n",
      "{'gamma': 6.199405589840319, 'learning_rate': 0.29009999999999997, 'max_depth': 6.0, 'min_child_weight': 3.0, 'reg_alpha': 89.0, 'reg_lambda': 0.4889888337126821}\n",
      "SCORE:                                                                                                                 \n",
      "2360.4656935989024                                                                                                     \n",
      "{'gamma': 6.509166551858078, 'learning_rate': 0.0001, 'max_depth': 10.0, 'min_child_weight': 6.0, 'reg_alpha': 85.0, 'reg_lambda': 0.0023211489106689798}\n",
      "SCORE:                                                                                                                 \n",
      "25311.740190552133                                                                                                     \n",
      "{'gamma': 7.411523813055836, 'learning_rate': 0.4201, 'max_depth': 8.0, 'min_child_weight': 2.0, 'reg_alpha': 78.0, 'reg_lambda': 0.4013435495153923}\n",
      "SCORE:                                                                                                                 \n",
      "2436.959119937724                                                                                                      \n",
      "{'gamma': 5.76044424129722, 'learning_rate': 0.3301, 'max_depth': 7.0, 'min_child_weight': 3.0, 'reg_alpha': 178.0, 'reg_lambda': 0.3668451076366317}\n",
      "SCORE:                                                                                                                 \n",
      "2314.789582235278                                                                                                      \n",
      "{'gamma': 5.643219022338284, 'learning_rate': 0.2001, 'max_depth': 4.0, 'min_child_weight': 3.0, 'reg_alpha': 178.0, 'reg_lambda': 0.3611850053635821}\n",
      "SCORE:                                                                                                                 \n",
      "2705.5246312559925                                                                                                     \n",
      "{'gamma': 4.816066614374619, 'learning_rate': 0.2201, 'max_depth': 3.0, 'min_child_weight': 2.0, 'reg_alpha': 180.0, 'reg_lambda': 0.5697532878062459}\n",
      "SCORE:                                                                                                                 \n",
      "2891.2944166623097                                                                                                     \n",
      "{'gamma': 4.55486526588396, 'learning_rate': 0.3301, 'max_depth': 7.0, 'min_child_weight': 1.0, 'reg_alpha': 150.0, 'reg_lambda': 0.44490125082905446}\n",
      "SCORE:                                                                                                                 \n",
      "2367.7860119062707                                                                                                     \n",
      "{'gamma': 5.635390960819487, 'learning_rate': 0.3301, 'max_depth': 6.0, 'min_child_weight': 2.0, 'reg_alpha': 176.0, 'reg_lambda': 0.3361977303690353}\n",
      "SCORE:                                                                                                                 \n",
      "2388.3856753935706                                                                                                     \n",
      "{'gamma': 5.212270273466337, 'learning_rate': 0.3001, 'max_depth': 12.0, 'min_child_weight': 6.0, 'reg_alpha': 57.0, 'reg_lambda': 0.12910550210643268}\n",
      "SCORE:                                                                                                                 \n",
      "2402.6810724455836                                                                                                     \n",
      "{'gamma': 3.6636083167969007, 'learning_rate': 0.3701, 'max_depth': 9.0, 'min_child_weight': 1.0, 'reg_alpha': 163.0, 'reg_lambda': 0.46514670321360513}\n",
      "SCORE:                                                                                                                 \n",
      "2467.0671799015386                                                                                                     \n",
      "{'gamma': 4.308320718138122, 'learning_rate': 0.3401, 'max_depth': 10.0, 'min_child_weight': 5.0, 'reg_alpha': 170.0, 'reg_lambda': 0.5078188450735961}\n",
      "SCORE:                                                                                                                 \n",
      "2427.1658114554143                                                                                                     \n",
      "{'gamma': 4.060650890907243, 'learning_rate': 0.4601, 'max_depth': 11.0, 'min_child_weight': 7.0, 'reg_alpha': 112.0, 'reg_lambda': 0.3823302066287193}\n",
      "SCORE:                                                                                                                 \n",
      "2403.450601975752                                                                                                      \n",
      "{'gamma': 3.3787919145629672, 'learning_rate': 0.3501, 'max_depth': 7.0, 'min_child_weight': 3.0, 'reg_alpha': 82.0, 'reg_lambda': 0.08207320129861656}\n",
      "SCORE:                                                                                                                 \n",
      "2322.0053899619115                                                                                                     \n",
      "{'gamma': 2.3973842950469324, 'learning_rate': 0.3501, 'max_depth': 5.0, 'min_child_weight': 0.0, 'reg_alpha': 122.0, 'reg_lambda': 0.02848551810261496}\n",
      "SCORE:                                                                                                                 \n",
      "2536.2251548959925                                                                                                     \n",
      "{'gamma': 2.7646352837742203, 'learning_rate': 0.3501, 'max_depth': 7.0, 'min_child_weight': 3.0, 'reg_alpha': 101.0, 'reg_lambda': 0.06854151297791622}\n",
      "SCORE:                                                                                                                 \n"
     ]
    },
    {
     "name": "stdout",
     "output_type": "stream",
     "text": [
      "2293.1281790255716                                                                                                     \n",
      "{'gamma': 1.0419907116595324, 'learning_rate': 0.1101, 'max_depth': 6.0, 'min_child_weight': 3.0, 'reg_alpha': 141.0, 'reg_lambda': 0.20858883490422545}\n",
      "SCORE:                                                                                                                 \n",
      "2491.6731789064847                                                                                                     \n",
      "{'gamma': 1.5592069486600066, 'learning_rate': 0.2801, 'max_depth': 4.0, 'min_child_weight': 2.0, 'reg_alpha': 125.0, 'reg_lambda': 0.055393624388020646}\n",
      "SCORE:                                                                                                                 \n",
      "2581.059115130094                                                                                                      \n",
      "{'gamma': 2.2146057934364842, 'learning_rate': 0.4901, 'max_depth': 9.0, 'min_child_weight': 4.0, 'reg_alpha': 102.0, 'reg_lambda': 0.10432925535107185}\n",
      "SCORE:                                                                                                                 \n",
      "2452.5805533698276                                                                                                     \n",
      "{'gamma': 2.7146371046390074, 'learning_rate': 0.1901, 'max_depth': 12.0, 'min_child_weight': 1.0, 'reg_alpha': 136.0, 'reg_lambda': 0.17790052693280767}\n",
      "SCORE:                                                                                                                 \n",
      "2457.2215014075                                                                                                        \n",
      "{'gamma': 8.277888220730075, 'learning_rate': 0.1301, 'max_depth': 7.0, 'min_child_weight': 0.0, 'reg_alpha': 154.0, 'reg_lambda': 0.13357431057008443}\n",
      "SCORE:                                                                                                                 \n",
      "2359.9949465679097                                                                                                     \n",
      "{'gamma': 3.1911499398437044, 'learning_rate': 0.07010000000000001, 'max_depth': 5.0, 'min_child_weight': 2.0, 'reg_alpha': 118.0, 'reg_lambda': 0.31380171460552797}\n",
      "SCORE:                                                                                                                 \n",
      "2755.7005267528575                                                                                                     \n",
      "{'gamma': 7.89382702533635, 'learning_rate': 0.1401, 'max_depth': 3.0, 'min_child_weight': 4.0, 'reg_alpha': 145.0, 'reg_lambda': 0.16156814240994377}\n",
      "SCORE:                                                                                                                 \n",
      "3090.7347733598044                                                                                                     \n",
      "{'gamma': 5.9681047712904975, 'learning_rate': 0.4001, 'max_depth': 6.0, 'min_child_weight': 3.0, 'reg_alpha': 96.0, 'reg_lambda': 0.2874891278922086}\n",
      "SCORE:                                                                                                                 \n",
      "2379.6543613123586                                                                                                     \n",
      "{'gamma': 2.8020473077848123, 'learning_rate': 0.4501, 'max_depth': 10.0, 'min_child_weight': 3.0, 'reg_alpha': 111.0, 'reg_lambda': 0.20763743061487208}\n",
      "SCORE:                                                                                                                 \n",
      "2406.9569705080303                                                                                                     \n",
      "{'gamma': 1.490398972300173, 'learning_rate': 0.4301, 'max_depth': 9.0, 'min_child_weight': 1.0, 'reg_alpha': 92.0, 'reg_lambda': 0.027750674051992497}\n",
      "SCORE:                                                                                                                 \n",
      "2526.764322637504                                                                                                      \n",
      "{'gamma': 6.1136514141308815, 'learning_rate': 0.2301, 'max_depth': 4.0, 'min_child_weight': 4.0, 'reg_alpha': 71.0, 'reg_lambda': 0.08473302338068275}\n",
      "SCORE:                                                                                                                 \n",
      "2596.011967177508                                                                                                      \n",
      "{'gamma': 7.2039435170406385, 'learning_rate': 0.2501, 'max_depth': 11.0, 'min_child_weight': 5.0, 'reg_alpha': 131.0, 'reg_lambda': 0.35352247191146097}\n",
      "SCORE:                                                                                                                 \n",
      "2341.0020093734697                                                                                                     \n",
      "{'gamma': 5.587487984165926, 'learning_rate': 0.040100000000000004, 'max_depth': 8.0, 'min_child_weight': 2.0, 'reg_alpha': 115.0, 'reg_lambda': 0.42031077969780384}\n",
      "SCORE:                                                                                                                 \n",
      "2564.074628760351                                                                                                      \n",
      "{'gamma': 1.199294952732108, 'learning_rate': 0.2601, 'max_depth': 13.0, 'min_child_weight': 4.0, 'reg_alpha': 100.0, 'reg_lambda': 0.12315941114840206}\n",
      "SCORE:                                                                                                                 \n",
      "2405.8771489422893                                                                                                     \n",
      "{'gamma': 1.6968276490646557, 'learning_rate': 0.3301, 'max_depth': 7.0, 'min_child_weight': 3.0, 'reg_alpha': 87.0, 'reg_lambda': 0.059321950326975015}\n",
      "SCORE:                                                                                                                 \n",
      "2307.7582343027493                                                                                                     \n",
      "{'gamma': 1.984983309097379, 'learning_rate': 0.2701, 'max_depth': 18.0, 'min_child_weight': 5.0, 'reg_alpha': 69.0, 'reg_lambda': 0.0539978260937413}\n",
      "SCORE:                                                                                                                 \n",
      "2536.382827451694                                                                                                      \n",
      "{'gamma': 1.67497475540919, 'learning_rate': 0.48009999999999997, 'max_depth': 5.0, 'min_child_weight': 1.0, 'reg_alpha': 75.0, 'reg_lambda': 0.004652179129775967}\n",
      "SCORE:                                                                                                                 \n",
      "2509.108883736826                                                                                                      \n",
      "100%|███████████████████████████████████████████████| 100/100 [02:13<00:00,  1.34s/trial, best loss: 5258436.845441134]\n",
      "{'gamma': 2.7646352837742203, 'learning_rate': 35, 'max_depth': 7.0, 'min_child_weight': 3.0, 'reg_alpha': 101.0, 'reg_lambda': 0.06854151297791622}\n"
     ]
    }
   ],
   "source": [
    "trials = Trials()\n",
    "best = fmin(fn=hyperparameter_tuning,\n",
    "            space=space,\n",
    "            algo=tpe.suggest,\n",
    "            max_evals=100,\n",
    "            trials=trials)\n",
    "\n",
    "print (best)"
   ]
  },
  {
   "cell_type": "code",
   "execution_count": 403,
   "id": "olympic-leonard",
   "metadata": {},
   "outputs": [
    {
     "name": "stdout",
     "output_type": "stream",
     "text": [
      "The best hyperparameters are :  \n",
      "\n",
      "{'gamma': 2.7646352837742203, 'learning_rate': 35, 'max_depth': 7.0, 'min_child_weight': 3.0, 'reg_alpha': 101.0, 'reg_lambda': 0.06854151297791622}\n"
     ]
    }
   ],
   "source": [
    "print(\"The best hyperparameters are : \",\"\\n\")\n",
    "print(best)"
   ]
  },
  {
   "cell_type": "code",
   "execution_count": 404,
   "id": "official-exposure",
   "metadata": {},
   "outputs": [],
   "source": [
    "xgb_opt = xgb.XGBRegressor(max_depth = int(best['max_depth']),\n",
    "                       gamma = best['gamma'],\n",
    "                       reg_lambda = best['reg_lambda'],\n",
    "                       reg_alpha = best['reg_alpha'],\n",
    "                       min_child_weight = best['min_child_weight'])"
   ]
  },
  {
   "cell_type": "code",
   "execution_count": 405,
   "id": "qualified-mozambique",
   "metadata": {},
   "outputs": [
    {
     "data": {
      "text/plain": [
       "XGBRegressor(base_score=0.5, booster='gbtree', colsample_bylevel=1,\n",
       "             colsample_bynode=1, colsample_bytree=1, gamma=2.7646352837742203,\n",
       "             gpu_id=-1, importance_type='gain', interaction_constraints='',\n",
       "             learning_rate=0.300000012, max_delta_step=0, max_depth=7,\n",
       "             min_child_weight=3.0, missing=nan, monotone_constraints='()',\n",
       "             n_estimators=100, n_jobs=4, num_parallel_tree=1, random_state=0,\n",
       "             reg_alpha=101.0, reg_lambda=0.06854151297791622,\n",
       "             scale_pos_weight=1, subsample=1, tree_method='exact',\n",
       "             validate_parameters=1, verbosity=None)"
      ]
     },
     "execution_count": 405,
     "metadata": {},
     "output_type": "execute_result"
    }
   ],
   "source": [
    "xgb_opt.fit(X_train, y_train)"
   ]
  },
  {
   "cell_type": "code",
   "execution_count": 406,
   "id": "horizontal-european",
   "metadata": {},
   "outputs": [],
   "source": [
    "# Predicting the Test set results\n",
    "y_pred_XGB_OPT = xgb_opt.predict(X_test)"
   ]
  },
  {
   "cell_type": "code",
   "execution_count": 407,
   "id": "harmful-option",
   "metadata": {},
   "outputs": [
    {
     "data": {
      "image/png": "[encoded data removed]",
      "text/plain": [
       "<Figure size 864x576 with 1 Axes>"
      ]
     },
     "metadata": {
      "needs_background": "light"
     },
     "output_type": "display_data"
    }
   ],
   "source": [
    "plt.figure(figsize = (12,8))\n",
    "\n",
    "plt.scatter(y_test, y_pred_SVM, label='SVM')\n",
    "plt.scatter(y_test, y_pred_RND, label='XGB')\n",
    "plt.scatter(y_test, y_pred_XGB_OPT, label='XGB_HYPEROPT')\n",
    "plt.xlabel('Y Test')\n",
    "plt.ylabel('Predicted Y')\n",
    "plt.legend(loc='upper left');\n",
    "plt.grid()"
   ]
  },
  {
   "cell_type": "code",
   "execution_count": 408,
   "id": "amateur-attribute",
   "metadata": {},
   "outputs": [
    {
     "name": "stdout",
     "output_type": "stream",
     "text": [
      "RMSE using SVM:  3948.9790284759224\n",
      "RMSE using XGB:  2694.680091919489\n",
      "RMSE using XGB_HYPEROPT:  2302.6736884942707\n"
     ]
    }
   ],
   "source": [
    "mse_SVM = mean_squared_error(y_test, y_pred_SVM)\n",
    "mse_XGB_OPT = mean_squared_error(y_test, y_pred_XGB_OPT)\n",
    "print(\"RMSE using SVM: \", np.sqrt(mse_SVM))\n",
    "print(\"RMSE using XGB: \", np.sqrt(np.abs(rand_neg_mse.best_score_)))\n",
    "print(\"RMSE using XGB_HYPEROPT: \", np.sqrt(mse_XGB_OPT))"
   ]
  },
  {
   "cell_type": "markdown",
   "id": "understanding-remark",
   "metadata": {},
   "source": [
    "We get better results with XGBE and we can even improve the RMSE with the Baesian optimization"
   ]
  },
  {
   "cell_type": "code",
   "execution_count": null,
   "id": "fundamental-lindsay",
   "metadata": {},
   "outputs": [],
   "source": []
  }
 ],
 "metadata": {
  "kernelspec": {
   "display_name": "Python 3",
   "language": "python",
   "name": "python3"
  },
  "language_info": {
   "codemirror_mode": {
    "name": "ipython",
    "version": 3
   },
   "file_extension": ".py",
   "mimetype": "text/x-python",
   "name": "python",
   "nbconvert_exporter": "python",
   "pygments_lexer": "ipython3",
   "version": "3.8.5"
  }
 },
 "nbformat": 4,
 "nbformat_minor": 5
}
