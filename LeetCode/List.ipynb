{
 "cells": [
  {
   "attachments": {},
   "cell_type": "markdown",
   "metadata": {},
   "source": [
    "### Explain Lists\n",
    "\n",
    "In Python, a list is an ordered collection of objects. Lists are similar to arrays in other programming languages, but they can contain elements of different types. Lists are created using square brackets [ ] and the elements are separated by commas.\n",
    "\n",
    "Here is an example of a list in Python:\n"
   ]
  },
  {
   "cell_type": "code",
   "execution_count": null,
   "metadata": {},
   "outputs": [],
   "source": [
    "fruits = ['apple', 'banana', 'mango', 'orange']\n",
    "\n",
    "# You can also use negative indices to access elements from the end of the list.\n",
    "# For example, the index -1 refers to the last element in the list, -2 refers to the second last element, and so on.\n",
    "\n",
    "last_fruit = fruits[-1]\n",
    "print(last_fruit)  # Output: 'orange'\n",
    "\n",
    "# Lists are mutable, which means you can change the elements of a list.\n",
    "# For example, you can update the second element of the list like this:\n",
    "\n",
    "fruits[1] = 'pear'\n",
    "print(fruits)  # Output: ['apple', 'pear', 'mango', 'orange']\n",
    "\n",
    "# Lists have a number of built-in methods that you can use to manipulate the elements of the list.\n",
    "# For example, you can use the append() method to add an element to the end of the list, or the insert() method to add an element at a specific position. You can also use the sort() method to sort the elements of the list in ascending or descending order.\n",
    "\n",
    "fruits = ['apple', 'banana', 'mango', 'orange']\n",
    "\n",
    "# Add an element to the end of the list\n",
    "fruits.append('kiwi')\n",
    "print(fruits)  # Output: ['apple', 'banana', 'mango', 'orange', 'kiwi']\n",
    "\n",
    "# Insert an element at the second position\n",
    "fruits.insert(1, 'grapes')\n",
    "print(fruits)  # Output: ['apple', 'grapes', 'banana', 'mango', 'orange', 'kiwi']\n",
    "\n",
    "# Sort the list in ascending order\n",
    "fruits.sort()\n",
    "print(fruits)  # Output: ['apple', 'banana', 'grapes', 'kiwi', 'mango', 'orange']\n"
   ]
  },
  {
   "attachments": {},
   "cell_type": "markdown",
   "metadata": {},
   "source": [
    "Here are some common operations that you can perform on lists in Python:\n",
    "\n",
    "Accessing elements: You can access the elements of a list using their index. For example, to get the second element of the list fruits, you can use the following code:\n",
    "'''\n",
    "second_fruit = fruits[1]\n",
    "''\n",
    "\n",
    "You can also use negative indices to access elements from the end of the list. For example, the index -1 refers to the last element in the list, -2 refers to the second last element, and so on.\n",
    "\n",
    "Slicing: You can use slicing to get a sublist from a list. Slicing is done using the start:end:step syntax, where start is the index of the first element, end is the index of the element after the last element, and step is the number of indices between the elements. For example, to get the sublist ['mango', 'orange'] from the list fruits, you can use the following code:\n",
    "\n",
    "Modifying elements: Lists are mutable, which means you can change the elements of a list. For example, you can update the second element of the list like this:\n",
    "\n",
    "Adding elements: You can use the append() method to add an element to the end of the list, or the insert() method to add an element at a specific position. For example, to add the element 'kiwi' to the end of the list fruits, you can use the following code:\n",
    "\n",
    "To insert the element 'grapes' at the second position in the list, you can use the following code:\n",
    "\n",
    "Removing elements: You can use the remove() method to remove an element from the list based on its value. For example, to remove the element 'mango' from the list fruits, you can use the following code:\n",
    "\n",
    "Sorting: You can use the sort() method to sort the elements of the list in ascending or descending order. For example, to sort the list fruits in ascending order, you can use the following code:\n"
   ]
  },
  {
   "cell_type": "code",
   "execution_count": null,
   "metadata": {},
   "outputs": [],
   "source": []
  },
  {
   "cell_type": "code",
   "execution_count": null,
   "metadata": {},
   "outputs": [],
   "source": []
  }
 ],
 "metadata": {
  "kernelspec": {
   "display_name": "base",
   "language": "python",
   "name": "python3"
  },
  "language_info": {
   "name": "python",
   "version": "3.8.8 (default, Apr 13 2021, 15:08:03) [MSC v.1916 64 bit (AMD64)]"
  },
  "orig_nbformat": 4,
  "vscode": {
   "interpreter": {
    "hash": "9daf46f34bf72a3432932ced9a453d3fc3e555f23025b217653c6e3874c383ce"
   }
  }
 },
 "nbformat": 4,
 "nbformat_minor": 2
}
